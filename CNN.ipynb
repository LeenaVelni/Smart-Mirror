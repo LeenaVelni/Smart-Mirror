{
 "cells": [
  {
   "cell_type": "markdown",
   "id": "f140265c",
   "metadata": {
    "tags": []
   },
   "source": [
    "# Image Preprocessing"
   ]
  },
  {
   "cell_type": "markdown",
   "id": "e4a5c6ac",
   "metadata": {
    "tags": []
   },
   "source": [
    "#  Import the library"
   ]
  },
  {
   "cell_type": "code",
   "execution_count": 1,
   "id": "1ef44e28",
   "metadata": {},
   "outputs": [],
   "source": [
    "from tensorflow.keras.preprocessing.image import ImageDataGenerator"
   ]
  },
  {
   "cell_type": "markdown",
   "id": "b6cc268c",
   "metadata": {
    "tags": []
   },
   "source": [
    "# Configure ImageDataGenerator Class "
   ]
  },
  {
   "cell_type": "code",
   "execution_count": 2,
   "id": "6a7c04c6",
   "metadata": {},
   "outputs": [],
   "source": [
    "#Setting parameter for Image Data augmentation to the training data\n",
    "train_datagen = ImageDataGenerator(rescale=1./255,shear_range=0.2,zoom_range=0.2,horizontal_flip=True)\n",
    "\n",
    "#Image Data augmentation to the testing data\n",
    "test_datagen = ImageDataGenerator(rescale=1./255)"
   ]
  },
  {
   "cell_type": "markdown",
   "id": "55920b42",
   "metadata": {},
   "source": [
    "# Apply Image DataGenerator Functionality To Trainset And Testset "
   ]
  },
  {
   "cell_type": "code",
   "execution_count": 3,
   "id": "98c68f8f",
   "metadata": {},
   "outputs": [
    {
     "name": "stdout",
     "output_type": "stream",
     "text": [
      "Found 2699 images belonging to 5 classes.\n",
      "Found 300 images belonging to 5 classes.\n"
     ]
    }
   ],
   "source": [
    "#Performing data augmentation to train data\n",
    "x_train = train_datagen.flow_from_directory(r'D:\\College\\Semester 8\\Final Year Project\\Dataset\\Train_Set',target_size=(64, 64),batch_size=5,color_mode='rgb',class_mode='sparse')\n",
    "\n",
    "#Performing data augmentation to test data\n",
    "x_test = test_datagen.flow_from_directory(r'D:\\College\\Semester 8\\Final Year Project\\Dataset\\Test_Set',target_size=(64, 64),batch_size=5,color_mode='rgb',class_mode='sparse')"
   ]
  },
  {
   "cell_type": "code",
   "execution_count": 4,
   "id": "d4ab6c9d-fce2-47b1-912e-5680312c926e",
   "metadata": {},
   "outputs": [
    {
     "name": "stdout",
     "output_type": "stream",
     "text": [
      "{'Acne': 0, 'Acne Scar': 1, 'Clear Skin': 2, 'Dark Spot': 3, 'Wrinkles': 4}\n"
     ]
    }
   ],
   "source": [
    "#Checking the number of classes \n",
    "print(x_train.class_indices)"
   ]
  },
  {
   "cell_type": "code",
   "execution_count": 5,
   "id": "d9c57ef0-0995-4717-b631-c840a54dcdc5",
   "metadata": {},
   "outputs": [
    {
     "name": "stdout",
     "output_type": "stream",
     "text": [
      "{'Acne': 0, 'Acne Scar': 1, 'Clear Skin': 2, 'Dark Spot': 3, 'Wrinkles': 4}\n"
     ]
    }
   ],
   "source": [
    "#Checking the number of classes \n",
    "print(x_test.class_indices)"
   ]
  },
  {
   "cell_type": "code",
   "execution_count": 6,
   "id": "d73a4f29-bf6c-4d54-92db-f242113dc434",
   "metadata": {},
   "outputs": [
    {
     "data": {
      "text/plain": [
       "Counter({0: 540, 1: 540, 2: 540, 3: 540, 4: 539})"
      ]
     },
     "execution_count": 6,
     "metadata": {},
     "output_type": "execute_result"
    }
   ],
   "source": [
    "from collections import Counter as c\n",
    "c(x_train .labels)"
   ]
  },
  {
   "cell_type": "markdown",
   "id": "2fadf9c4",
   "metadata": {},
   "source": [
    "# Model Building"
   ]
  },
  {
   "cell_type": "markdown",
   "id": "6e256b59",
   "metadata": {},
   "source": [
    "# Importing The Model Building Libraries"
   ]
  },
  {
   "cell_type": "code",
   "execution_count": 7,
   "id": "64b8eac8",
   "metadata": {},
   "outputs": [],
   "source": [
    "#Used for numerical analysis\n",
    "import numpy as np\n",
    "\n",
    "#Open source used for both ML and DL for computation\n",
    "import tensorflow\n",
    "\n",
    "#It is a plain stack of Layers\n",
    "from tensorflow.keras.models import Sequential\n",
    "\n",
    "#A layer consists of a tensor-in tensor-out computation function\n",
    "from tensorflow.keras import layers\n",
    "\n",
    "#Dense layer is the regular deeply connected neural network layer\n",
    "from tensorflow.keras.layers import Dense,Flatten\n",
    "\n",
    "#Flatten used for flattening the input or change the dimension\n",
    "from tensorflow.keras.layers import Conv2D,MaxPooling2D,Dropout  #Convolutional Layer\n",
    "\n",
    "#MaxPooling2D for down sampling the image\n",
    "from keras.preprocessing.image import ImageDataGenerator\n"
   ]
  },
  {
   "cell_type": "markdown",
   "id": "b87aae8c",
   "metadata": {},
   "source": [
    "# Initializing The Model"
   ]
  },
  {
   "cell_type": "code",
   "execution_count": 8,
   "id": "aa1f4a65",
   "metadata": {},
   "outputs": [],
   "source": [
    "model=Sequential()"
   ]
  },
  {
   "cell_type": "markdown",
   "id": "54534ba5",
   "metadata": {},
   "source": [
    "# Adding CNN Layers"
   ]
  },
  {
   "cell_type": "code",
   "execution_count": 15,
   "id": "02d141f2",
   "metadata": {},
   "outputs": [],
   "source": [
    "from tensorflow import keras\n"
   ]
  },
  {
   "cell_type": "code",
   "execution_count": 23,
   "id": "c26ed4b2",
   "metadata": {},
   "outputs": [],
   "source": [
    "#Initialising the CNN\n",
    "classifier = Sequential()\n",
    "\n",
    "#First convolution layer and pooling\n",
    "classifier.add(Conv2D(32, (3, 3), input_shape=(64, 64, 3),activation='relu'))\n",
    "classifier.add(MaxPooling2D(pool_size=(2, 2)))\n",
    "\n",
    "#Second convolution layer and pooling\n",
    "classifier.add(Conv2D(32, (3, 3),activation='relu'))\n",
    "\n",
    "#input_shape is going to be the pooled feature maps from the previous convolution layer\n",
    "classifier.add(MaxPooling2D(pool_size=(2, 2)))\n",
    "\n",
    "#Flattening the layers\n",
    "classifier.add(Flatten())"
   ]
  },
  {
   "cell_type": "markdown",
   "id": "1012d924",
   "metadata": {},
   "source": [
    "# Adding Dense Layers "
   ]
  },
  {
   "cell_type": "code",
   "execution_count": 24,
   "id": "64331fff-1c94-465d-bbea-516d749301cf",
   "metadata": {},
   "outputs": [],
   "source": [
    "#Adding a fully connected layer\n",
    "model.add(Dense(300,activation='relu'))\n",
    "model.add(Dense(150,activation='relu'))\n",
    "\n",
    "#softmax for more than 2\n",
    "classifier.add(Dense(units=5, activation = 'softmax'))"
   ]
  },
  {
   "cell_type": "code",
   "execution_count": 25,
   "id": "ae58391a",
   "metadata": {},
   "outputs": [
    {
     "name": "stdout",
     "output_type": "stream",
     "text": [
      "Model: \"sequential_6\"\n",
      "_________________________________________________________________\n",
      " Layer (type)                Output Shape              Param #   \n",
      "=================================================================\n",
      " conv2d_15 (Conv2D)          (None, 62, 62, 32)        896       \n",
      "                                                                 \n",
      " max_pooling2d_15 (MaxPoolin  (None, 31, 31, 32)       0         \n",
      " g2D)                                                            \n",
      "                                                                 \n",
      " conv2d_16 (Conv2D)          (None, 29, 29, 32)        9248      \n",
      "                                                                 \n",
      " max_pooling2d_16 (MaxPoolin  (None, 14, 14, 32)       0         \n",
      " g2D)                                                            \n",
      "                                                                 \n",
      " flatten_5 (Flatten)         (None, 6272)              0         \n",
      "                                                                 \n",
      " dense_25 (Dense)            (None, 5)                 31365     \n",
      "                                                                 \n",
      "=================================================================\n",
      "Total params: 41,509\n",
      "Trainable params: 41,509\n",
      "Non-trainable params: 0\n",
      "_________________________________________________________________\n"
     ]
    }
   ],
   "source": [
    "#Summary of the model\n",
    "classifier.summary()"
   ]
  },
  {
   "cell_type": "markdown",
   "id": "b3c41747",
   "metadata": {},
   "source": [
    "# Compiling the Model"
   ]
  },
  {
   "cell_type": "code",
   "execution_count": 26,
   "id": "c5a0e777",
   "metadata": {},
   "outputs": [],
   "source": [
    "#Compiling the CNN\n",
    "#categorical_crossentropy for more than 2\n",
    "classifier.compile(optimizer='adam',loss='sparse_categorical_crossentropy',metrics=['accuracy'])"
   ]
  },
  {
   "cell_type": "code",
   "execution_count": 27,
   "id": "f58060c5",
   "metadata": {},
   "outputs": [
    {
     "data": {
      "text/plain": [
       "540"
      ]
     },
     "execution_count": 27,
     "metadata": {},
     "output_type": "execute_result"
    }
   ],
   "source": [
    "len(x_train)"
   ]
  },
  {
   "cell_type": "markdown",
   "id": "cbdc28a8",
   "metadata": {},
   "source": [
    "# Train The Model"
   ]
  },
  {
   "cell_type": "code",
   "execution_count": 28,
   "id": "ed7107c7",
   "metadata": {},
   "outputs": [
    {
     "name": "stdout",
     "output_type": "stream",
     "text": [
      "Epoch 1/30\n",
      "540/540 [==============================] - 87s 160ms/step - loss: 1.3814 - accuracy: 0.3998 - val_loss: 1.5385 - val_accuracy: 0.3533\n",
      "Epoch 2/30\n",
      "540/540 [==============================] - 76s 141ms/step - loss: 1.2131 - accuracy: 0.5043 - val_loss: 1.3265 - val_accuracy: 0.3900\n",
      "Epoch 3/30\n",
      "540/540 [==============================] - 75s 139ms/step - loss: 1.1416 - accuracy: 0.5346 - val_loss: 1.2981 - val_accuracy: 0.5033\n",
      "Epoch 4/30\n",
      "540/540 [==============================] - 75s 139ms/step - loss: 1.0953 - accuracy: 0.5706 - val_loss: 1.2030 - val_accuracy: 0.4967\n",
      "Epoch 5/30\n",
      "540/540 [==============================] - 76s 141ms/step - loss: 1.0287 - accuracy: 0.5902 - val_loss: 1.1641 - val_accuracy: 0.5133\n",
      "Epoch 6/30\n",
      "540/540 [==============================] - 75s 139ms/step - loss: 0.9873 - accuracy: 0.6202 - val_loss: 1.1626 - val_accuracy: 0.5733\n",
      "Epoch 7/30\n",
      "540/540 [==============================] - 77s 143ms/step - loss: 0.9514 - accuracy: 0.6395 - val_loss: 1.1446 - val_accuracy: 0.5367\n",
      "Epoch 8/30\n",
      "540/540 [==============================] - 85s 158ms/step - loss: 0.9125 - accuracy: 0.6454 - val_loss: 1.2008 - val_accuracy: 0.5567\n",
      "Epoch 9/30\n",
      "540/540 [==============================] - 75s 139ms/step - loss: 0.8703 - accuracy: 0.6554 - val_loss: 1.2133 - val_accuracy: 0.5133\n",
      "Epoch 10/30\n",
      "540/540 [==============================] - 78s 144ms/step - loss: 0.8442 - accuracy: 0.6814 - val_loss: 1.3454 - val_accuracy: 0.5367\n",
      "Epoch 11/30\n",
      "540/540 [==============================] - 79s 147ms/step - loss: 0.8395 - accuracy: 0.6769 - val_loss: 1.3336 - val_accuracy: 0.5033\n",
      "Epoch 12/30\n",
      "540/540 [==============================] - 82s 151ms/step - loss: 0.7813 - accuracy: 0.7040 - val_loss: 1.1492 - val_accuracy: 0.6067\n",
      "Epoch 13/30\n",
      "540/540 [==============================] - 86s 159ms/step - loss: 0.7625 - accuracy: 0.7121 - val_loss: 1.3243 - val_accuracy: 0.5500\n",
      "Epoch 14/30\n",
      "540/540 [==============================] - 82s 152ms/step - loss: 0.7569 - accuracy: 0.7092 - val_loss: 1.1520 - val_accuracy: 0.6000\n",
      "Epoch 15/30\n",
      "540/540 [==============================] - 82s 151ms/step - loss: 0.7237 - accuracy: 0.7266 - val_loss: 1.1144 - val_accuracy: 0.6100\n",
      "Epoch 16/30\n",
      "540/540 [==============================] - 79s 147ms/step - loss: 0.6964 - accuracy: 0.7421 - val_loss: 1.2331 - val_accuracy: 0.5800\n",
      "Epoch 17/30\n",
      "540/540 [==============================] - 77s 142ms/step - loss: 0.6933 - accuracy: 0.7418 - val_loss: 1.2386 - val_accuracy: 0.5667\n",
      "Epoch 18/30\n",
      "540/540 [==============================] - 76s 140ms/step - loss: 0.6668 - accuracy: 0.7536 - val_loss: 1.2386 - val_accuracy: 0.6100\n",
      "Epoch 19/30\n",
      "540/540 [==============================] - 77s 142ms/step - loss: 0.6536 - accuracy: 0.7588 - val_loss: 1.2144 - val_accuracy: 0.5967\n",
      "Epoch 20/30\n",
      "540/540 [==============================] - 76s 142ms/step - loss: 0.6283 - accuracy: 0.7736 - val_loss: 1.2930 - val_accuracy: 0.5667\n",
      "Epoch 21/30\n",
      "540/540 [==============================] - 76s 141ms/step - loss: 0.6218 - accuracy: 0.7747 - val_loss: 1.1950 - val_accuracy: 0.6067\n",
      "Epoch 22/30\n",
      "540/540 [==============================] - 76s 141ms/step - loss: 0.6056 - accuracy: 0.7836 - val_loss: 1.1270 - val_accuracy: 0.6133\n",
      "Epoch 23/30\n",
      "540/540 [==============================] - 78s 144ms/step - loss: 0.5868 - accuracy: 0.7862 - val_loss: 1.2897 - val_accuracy: 0.5933\n",
      "Epoch 24/30\n",
      "540/540 [==============================] - 72s 133ms/step - loss: 0.5782 - accuracy: 0.7910 - val_loss: 1.2191 - val_accuracy: 0.6233\n",
      "Epoch 25/30\n",
      "540/540 [==============================] - 70s 130ms/step - loss: 0.5534 - accuracy: 0.7929 - val_loss: 1.2175 - val_accuracy: 0.6333\n",
      "Epoch 26/30\n",
      "540/540 [==============================] - 74s 137ms/step - loss: 0.5508 - accuracy: 0.7951 - val_loss: 1.2688 - val_accuracy: 0.6267\n",
      "Epoch 27/30\n",
      "540/540 [==============================] - 78s 144ms/step - loss: 0.5302 - accuracy: 0.8081 - val_loss: 1.2626 - val_accuracy: 0.6200\n",
      "Epoch 28/30\n",
      "540/540 [==============================] - 71s 131ms/step - loss: 0.5569 - accuracy: 0.7996 - val_loss: 1.2881 - val_accuracy: 0.6267\n",
      "Epoch 29/30\n",
      "540/540 [==============================] - 70s 129ms/step - loss: 0.5110 - accuracy: 0.8133 - val_loss: 1.3502 - val_accuracy: 0.6233\n",
      "Epoch 30/30\n",
      "540/540 [==============================] - 71s 130ms/step - loss: 0.5080 - accuracy: 0.8177 - val_loss: 1.2784 - val_accuracy: 0.6167\n"
     ]
    },
    {
     "data": {
      "text/plain": [
       "<keras.callbacks.History at 0x127797e3e80>"
      ]
     },
     "execution_count": 28,
     "metadata": {},
     "output_type": "execute_result"
    }
   ],
   "source": [
    "classifier.fit(\n",
    "    x_train,steps_per_epoch =len(x_train),\n",
    "    epochs=30, validation_data=x_test,\n",
    "    validation_steps = len(x_test)) #Number of images in test set"
   ]
  },
  {
   "cell_type": "markdown",
   "id": "4ddd5c9a",
   "metadata": {},
   "source": [
    "# Save The Model"
   ]
  },
  {
   "cell_type": "code",
   "execution_count": 29,
   "id": "48c16db2",
   "metadata": {},
   "outputs": [],
   "source": [
    "#Saving the model\n",
    "classifier.save('model.h5')"
   ]
  },
  {
   "cell_type": "markdown",
   "id": "6080caf7",
   "metadata": {},
   "source": [
    "# Tensorflowlite Model"
   ]
  },
  {
   "cell_type": "code",
   "execution_count": 30,
   "id": "f86f967f",
   "metadata": {},
   "outputs": [],
   "source": [
    "import tensorflow as tf\n",
    "from keras.models import load_model"
   ]
  },
  {
   "cell_type": "code",
   "execution_count": 31,
   "id": "2fd3ae41",
   "metadata": {},
   "outputs": [
    {
     "name": "stderr",
     "output_type": "stream",
     "text": [
      "WARNING:absl:Found untraced functions such as _jit_compiled_convolution_op, _jit_compiled_convolution_op while saving (showing 2 of 2). These functions will not be directly callable after loading.\n"
     ]
    },
    {
     "name": "stdout",
     "output_type": "stream",
     "text": [
      "INFO:tensorflow:Assets written to: C:\\Users\\Leena\\AppData\\Local\\Temp\\tmp2_322e20\\assets\n"
     ]
    },
    {
     "name": "stderr",
     "output_type": "stream",
     "text": [
      "INFO:tensorflow:Assets written to: C:\\Users\\Leena\\AppData\\Local\\Temp\\tmp2_322e20\\assets\n"
     ]
    }
   ],
   "source": [
    "# Load the Keras model\n",
    "model = tf.keras.models.load_model('model.h5')\n",
    "\n",
    "# Convert the model to TensorFlow Lite format\n",
    "converter = tf.lite.TFLiteConverter.from_keras_model(model)\n",
    "converter.experimental_relax_shapes = True # Use the experimental_relax_shapes option\n",
    "tflite_model = converter.convert()\n",
    "\n",
    "# Save the TensorFlow Lite model to a file\n",
    "with open('model.tflite', 'wb') as f:\n",
    "    f.write(tflite_model)\n"
   ]
  },
  {
   "cell_type": "code",
   "execution_count": null,
   "id": "17211530",
   "metadata": {},
   "outputs": [],
   "source": []
  }
 ],
 "metadata": {
  "kernelspec": {
   "display_name": "Python 3 (ipykernel)",
   "language": "python",
   "name": "python3"
  },
  "language_info": {
   "codemirror_mode": {
    "name": "ipython",
    "version": 3
   },
   "file_extension": ".py",
   "mimetype": "text/x-python",
   "name": "python",
   "nbconvert_exporter": "python",
   "pygments_lexer": "ipython3",
   "version": "3.9.13"
  }
 },
 "nbformat": 4,
 "nbformat_minor": 5
}
